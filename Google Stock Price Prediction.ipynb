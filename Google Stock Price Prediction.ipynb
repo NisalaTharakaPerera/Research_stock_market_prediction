{
 "cells": [
  {
   "cell_type": "code",
   "execution_count": 1,
   "id": "e145e5e2",
   "metadata": {},
   "outputs": [],
   "source": [
    "import numpy as np\n",
    "import pandas as pd\n",
    "import matplotlib.pyplot as plt\n",
    "from sklearn.preprocessing import MinMaxScaler\n",
    "from keras.models import Sequential\n",
    "from keras.layers import Dense, LSTM, Dropout"
   ]
  },
  {
   "cell_type": "code",
   "execution_count": 2,
   "id": "70815480",
   "metadata": {},
   "outputs": [
    {
     "data": {
      "text/html": [
       "<div>\n",
       "<style scoped>\n",
       "    .dataframe tbody tr th:only-of-type {\n",
       "        vertical-align: middle;\n",
       "    }\n",
       "\n",
       "    .dataframe tbody tr th {\n",
       "        vertical-align: top;\n",
       "    }\n",
       "\n",
       "    .dataframe thead th {\n",
       "        text-align: right;\n",
       "    }\n",
       "</style>\n",
       "<table border=\"1\" class=\"dataframe\">\n",
       "  <thead>\n",
       "    <tr style=\"text-align: right;\">\n",
       "      <th></th>\n",
       "      <th>Date</th>\n",
       "      <th>Open</th>\n",
       "      <th>High</th>\n",
       "      <th>Low</th>\n",
       "      <th>Close</th>\n",
       "      <th>Volume</th>\n",
       "    </tr>\n",
       "  </thead>\n",
       "  <tbody>\n",
       "    <tr>\n",
       "      <th>0</th>\n",
       "      <td>1/3/2012</td>\n",
       "      <td>325.25</td>\n",
       "      <td>332.83</td>\n",
       "      <td>324.97</td>\n",
       "      <td>663.59</td>\n",
       "      <td>7,380,500</td>\n",
       "    </tr>\n",
       "    <tr>\n",
       "      <th>1</th>\n",
       "      <td>1/4/2012</td>\n",
       "      <td>331.27</td>\n",
       "      <td>333.87</td>\n",
       "      <td>329.08</td>\n",
       "      <td>666.45</td>\n",
       "      <td>5,749,400</td>\n",
       "    </tr>\n",
       "    <tr>\n",
       "      <th>2</th>\n",
       "      <td>1/5/2012</td>\n",
       "      <td>329.83</td>\n",
       "      <td>330.75</td>\n",
       "      <td>326.89</td>\n",
       "      <td>657.21</td>\n",
       "      <td>6,590,300</td>\n",
       "    </tr>\n",
       "    <tr>\n",
       "      <th>3</th>\n",
       "      <td>1/6/2012</td>\n",
       "      <td>328.34</td>\n",
       "      <td>328.77</td>\n",
       "      <td>323.68</td>\n",
       "      <td>648.24</td>\n",
       "      <td>5,405,900</td>\n",
       "    </tr>\n",
       "    <tr>\n",
       "      <th>4</th>\n",
       "      <td>1/9/2012</td>\n",
       "      <td>322.04</td>\n",
       "      <td>322.29</td>\n",
       "      <td>309.46</td>\n",
       "      <td>620.76</td>\n",
       "      <td>11,688,800</td>\n",
       "    </tr>\n",
       "  </tbody>\n",
       "</table>\n",
       "</div>"
      ],
      "text/plain": [
       "       Date    Open    High     Low   Close      Volume\n",
       "0  1/3/2012  325.25  332.83  324.97  663.59   7,380,500\n",
       "1  1/4/2012  331.27  333.87  329.08  666.45   5,749,400\n",
       "2  1/5/2012  329.83  330.75  326.89  657.21   6,590,300\n",
       "3  1/6/2012  328.34  328.77  323.68  648.24   5,405,900\n",
       "4  1/9/2012  322.04  322.29  309.46  620.76  11,688,800"
      ]
     },
     "execution_count": 2,
     "metadata": {},
     "output_type": "execute_result"
    }
   ],
   "source": [
    "data = pd.read_csv('Google_train_data.csv')\n",
    "data.head()"
   ]
  },
  {
   "cell_type": "code",
   "execution_count": 3,
   "id": "fb864f66",
   "metadata": {},
   "outputs": [
    {
     "name": "stdout",
     "output_type": "stream",
     "text": [
      "<class 'pandas.core.frame.DataFrame'>\n",
      "RangeIndex: 1258 entries, 0 to 1257\n",
      "Data columns (total 6 columns):\n",
      " #   Column  Non-Null Count  Dtype  \n",
      "---  ------  --------------  -----  \n",
      " 0   Date    1258 non-null   object \n",
      " 1   Open    1258 non-null   float64\n",
      " 2   High    1258 non-null   float64\n",
      " 3   Low     1258 non-null   float64\n",
      " 4   Close   1258 non-null   object \n",
      " 5   Volume  1258 non-null   object \n",
      "dtypes: float64(3), object(3)\n",
      "memory usage: 59.1+ KB\n"
     ]
    }
   ],
   "source": [
    "data.info()"
   ]
  },
  {
   "cell_type": "markdown",
   "id": "3b9b0f6c",
   "metadata": {},
   "source": [
    "Now let us preprocess the data to transform our closing price variable to a numeric type variable"
   ]
  },
  {
   "cell_type": "code",
   "execution_count": 4,
   "id": "99fcaa5b",
   "metadata": {},
   "outputs": [],
   "source": [
    "data[\"Close\"] = pd.to_numeric(data.Close,errors='coerce')\n",
    "data = data.dropna()\n",
    "trainData = data.iloc[:,4:5].values"
   ]
  },
  {
   "cell_type": "code",
   "execution_count": 5,
   "id": "7c6bed45",
   "metadata": {},
   "outputs": [
    {
     "name": "stdout",
     "output_type": "stream",
     "text": [
      "<class 'pandas.core.frame.DataFrame'>\n",
      "Int64Index: 1149 entries, 0 to 1257\n",
      "Data columns (total 6 columns):\n",
      " #   Column  Non-Null Count  Dtype  \n",
      "---  ------  --------------  -----  \n",
      " 0   Date    1149 non-null   object \n",
      " 1   Open    1149 non-null   float64\n",
      " 2   High    1149 non-null   float64\n",
      " 3   Low     1149 non-null   float64\n",
      " 4   Close   1149 non-null   float64\n",
      " 5   Volume  1149 non-null   object \n",
      "dtypes: float64(4), object(2)\n",
      "memory usage: 62.8+ KB\n"
     ]
    }
   ],
   "source": [
    "data.info()"
   ]
  },
  {
   "cell_type": "markdown",
   "id": "1104ecc0",
   "metadata": {},
   "source": [
    "You can now observe that the datatype of 'Close' column has changed to 'float' data type"
   ]
  },
  {
   "cell_type": "markdown",
   "id": "e0108d0a",
   "metadata": {},
   "source": [
    "Now we'll rescale our data into values between 0 and 1 for better performances"
   ]
  },
  {
   "cell_type": "code",
   "execution_count": 6,
   "id": "59e26437",
   "metadata": {},
   "outputs": [
    {
     "data": {
      "text/plain": [
       "(1149, 1)"
      ]
     },
     "execution_count": 6,
     "metadata": {},
     "output_type": "execute_result"
    }
   ],
   "source": [
    "sc = MinMaxScaler(feature_range=(0,1))\n",
    "trainData = sc.fit_transform(trainData)\n",
    "trainData.shape"
   ]
  },
  {
   "cell_type": "code",
   "execution_count": 7,
   "id": "3f0447a6",
   "metadata": {},
   "outputs": [],
   "source": [
    "X_train = []\n",
    "y_train = []\n",
    "\n",
    "for i in range (60,1149): #60 : timesteps , 1149: Length of the data\n",
    "    X_train.append(trainData[i-60:i,0])\n",
    "    y_train.append(trainData[i,0])\n",
    "    \n",
    "X_train, y_train = np.array(X_train),np.array(y_train)"
   ]
  },
  {
   "cell_type": "markdown",
   "id": "43352bca",
   "metadata": {},
   "source": [
    "We'll be adding another axis for the batch size since the input for a LSTM network is a 3D tensor so it will have a sequence length, the timesteps, and batch size. "
   ]
  },
  {
   "cell_type": "code",
   "execution_count": 8,
   "id": "7de42916",
   "metadata": {},
   "outputs": [
    {
     "data": {
      "text/plain": [
       "(1089, 60, 1)"
      ]
     },
     "execution_count": 8,
     "metadata": {},
     "output_type": "execute_result"
    }
   ],
   "source": [
    "X_train = np.reshape(X_train, (X_train.shape[0], X_train.shape[1], 1))   # adding the batch size axis\n",
    "X_train.shape"
   ]
  },
  {
   "cell_type": "markdown",
   "id": "79abe597",
   "metadata": {},
   "source": [
    "Now we'll build a model containing 4 layers of LSTM network. All followed by a dropout layer. On the top we will also have a final dense layer. All of this is compiled using an Adam optimizer and mean squared error as a loss function."
   ]
  },
  {
   "cell_type": "code",
   "execution_count": 17,
   "id": "a34eebe3",
   "metadata": {},
   "outputs": [],
   "source": [
    "model = Sequential()\n",
    "\n",
    "model.add(LSTM(units=100, return_sequences = True, input_shape = (X_train.shape[1], 1)))\n",
    "model.add(Dropout(0.2))\n",
    "\n",
    "model.add(LSTM(units=100, return_sequences = True))\n",
    "model.add(Dropout(0.2))\n",
    "\n",
    "model.add(LSTM(units=100, return_sequences = True))\n",
    "model.add(Dropout(0.2))\n",
    "\n",
    "model.add(LSTM(units=100, return_sequences = False))\n",
    "model.add(Dropout(0.2))\n",
    "\n",
    "model.add(Dense(units=1))\n",
    "model.compile(optimizer='adam',loss='mean_squared_error')"
   ]
  },
  {
   "cell_type": "code",
   "execution_count": 18,
   "id": "4c150aec",
   "metadata": {},
   "outputs": [
    {
     "name": "stdout",
     "output_type": "stream",
     "text": [
      "Epoch 1/20\n",
      "35/35 - 13s - loss: 0.0346 - 13s/epoch - 375ms/step\n",
      "Epoch 2/20\n",
      "35/35 - 7s - loss: 0.0116 - 7s/epoch - 188ms/step\n",
      "Epoch 3/20\n",
      "35/35 - 8s - loss: 0.0109 - 8s/epoch - 227ms/step\n",
      "Epoch 4/20\n",
      "35/35 - 6s - loss: 0.0107 - 6s/epoch - 169ms/step\n",
      "Epoch 5/20\n",
      "35/35 - 9s - loss: 0.0130 - 9s/epoch - 271ms/step\n",
      "Epoch 6/20\n",
      "35/35 - 6s - loss: 0.0068 - 6s/epoch - 175ms/step\n",
      "Epoch 7/20\n",
      "35/35 - 6s - loss: 0.0065 - 6s/epoch - 172ms/step\n",
      "Epoch 8/20\n",
      "35/35 - 8s - loss: 0.0090 - 8s/epoch - 242ms/step\n",
      "Epoch 9/20\n",
      "35/35 - 9s - loss: 0.0078 - 9s/epoch - 244ms/step\n",
      "Epoch 10/20\n",
      "35/35 - 8s - loss: 0.0059 - 8s/epoch - 215ms/step\n",
      "Epoch 11/20\n",
      "35/35 - 7s - loss: 0.0056 - 7s/epoch - 188ms/step\n",
      "Epoch 12/20\n",
      "35/35 - 6s - loss: 0.0055 - 6s/epoch - 178ms/step\n",
      "Epoch 13/20\n",
      "35/35 - 7s - loss: 0.0054 - 7s/epoch - 204ms/step\n",
      "Epoch 14/20\n",
      "35/35 - 7s - loss: 0.0055 - 7s/epoch - 200ms/step\n",
      "Epoch 15/20\n",
      "35/35 - 8s - loss: 0.0054 - 8s/epoch - 224ms/step\n",
      "Epoch 16/20\n",
      "35/35 - 8s - loss: 0.0050 - 8s/epoch - 218ms/step\n",
      "Epoch 17/20\n",
      "35/35 - 7s - loss: 0.0045 - 7s/epoch - 211ms/step\n",
      "Epoch 18/20\n",
      "35/35 - 7s - loss: 0.0048 - 7s/epoch - 211ms/step\n",
      "Epoch 19/20\n",
      "35/35 - 7s - loss: 0.0046 - 7s/epoch - 210ms/step\n",
      "Epoch 20/20\n",
      "35/35 - 7s - loss: 0.0051 - 7s/epoch - 206ms/step\n"
     ]
    }
   ],
   "source": [
    "hist = model.fit(X_train, y_train, epochs=20, batch_size=32, verbose=2)"
   ]
  },
  {
   "cell_type": "code",
   "execution_count": 19,
   "id": "2658a0a7",
   "metadata": {},
   "outputs": [
    {
     "data": {
      "image/png": "[encoded data removed]",
      "text/plain": [
       "<Figure size 640x480 with 1 Axes>"
      ]
     },
     "metadata": {},
     "output_type": "display_data"
    }
   ],
   "source": [
    "plt.plot(hist.history['loss'])\n",
    "plt.title(\"Training model loss\")\n",
    "plt.ylabel('loss')\n",
    "plt.xlabel('epoch')\n",
    "plt.legend(['train'], loc=\"upper left\")\n",
    "plt.show()"
   ]
  },
  {
   "cell_type": "code",
   "execution_count": 20,
   "id": "01c308f0",
   "metadata": {},
   "outputs": [
    {
     "data": {
      "text/plain": [
       "(192, 60, 1)"
      ]
     },
     "execution_count": 20,
     "metadata": {},
     "output_type": "execute_result"
    }
   ],
   "source": [
    "testData = pd.read_csv('Google_test_data.csv')\n",
    "testData[\"Close\"] = pd.to_numeric(testData.Close, errors = 'coerce')\n",
    "testData = testData.dropna()\n",
    "testData = testData.iloc[:,4:5]\n",
    "y_test = testData.iloc[60:,0:].values\n",
    "\n",
    "#input array for the model\n",
    "inputClosing = testData.iloc[:,0:].values\n",
    "inputClosing_scaled = sc.transform(inputClosing)\n",
    "inputClosing_scaled.shape\n",
    "X_test = []\n",
    "length = len(testData)\n",
    "timestep = 60\n",
    "for i in range(timestep,length):\n",
    "    X_test.append(inputClosing_scaled[i-timestep:i,0])\n",
    "X_test = np.array(X_test)\n",
    "X_test = np.reshape(X_test, (X_test.shape[0], X_test.shape[1],1))\n",
    "X_test.shape"
   ]
  },
  {
   "cell_type": "code",
   "execution_count": 21,
   "id": "faf4fccb",
   "metadata": {
    "scrolled": false
   },
   "outputs": [
    {
     "name": "stdout",
     "output_type": "stream",
     "text": [
      "6/6 [==============================] - 2s 37ms/step\n"
     ]
    },
    {
     "data": {
      "text/plain": [
       "array([[1.2540195],\n",
       "       [1.2571859],\n",
       "       [1.2687635],\n",
       "       [1.286341 ],\n",
       "       [1.3011335],\n",
       "       [1.302494 ],\n",
       "       [1.2901144],\n",
       "       [1.2716318],\n",
       "       [1.2586436],\n",
       "       [1.2542484],\n",
       "       [1.2474105],\n",
       "       [1.2364267],\n",
       "       [1.226193 ],\n",
       "       [1.2165911],\n",
       "       [1.2139097],\n",
       "       [1.2179842],\n",
       "       [1.235713 ],\n",
       "       [1.2645613],\n",
       "       [1.2983284],\n",
       "       [1.3323054],\n",
       "       [1.3477299],\n",
       "       [1.3460202],\n",
       "       [1.3261255],\n",
       "       [1.2961022],\n",
       "       [1.2678932],\n",
       "       [1.2507402],\n",
       "       [1.2457392],\n",
       "       [1.2452147],\n",
       "       [1.2389405],\n",
       "       [1.2285864],\n",
       "       [1.2164385],\n",
       "       [1.2022822],\n",
       "       [1.1814182],\n",
       "       [1.1554937],\n",
       "       [1.1433058],\n",
       "       [1.1509187],\n",
       "       [1.1722991],\n",
       "       [1.1981089],\n",
       "       [1.2231946],\n",
       "       [1.2368883],\n",
       "       [1.2497308],\n",
       "       [1.2647982],\n",
       "       [1.2824321],\n",
       "       [1.299345 ],\n",
       "       [1.3113861],\n",
       "       [1.3139651],\n",
       "       [1.3050189],\n",
       "       [1.2959354],\n",
       "       [1.2928851],\n",
       "       [1.2983189],\n",
       "       [1.3115864],\n",
       "       [1.3217655],\n",
       "       [1.3257004],\n",
       "       [1.3236879],\n",
       "       [1.3221483],\n",
       "       [1.3184917],\n",
       "       [1.3102567],\n",
       "       [1.3055586],\n",
       "       [1.3134643],\n",
       "       [1.3311574],\n",
       "       [1.3575258],\n",
       "       [1.3897421],\n",
       "       [1.4136527],\n",
       "       [1.419831 ],\n",
       "       [1.4093219],\n",
       "       [1.3892397],\n",
       "       [1.3736938],\n",
       "       [1.367386 ],\n",
       "       [1.3696339],\n",
       "       [1.3749716],\n",
       "       [1.3810136],\n",
       "       [1.3850381],\n",
       "       [1.382257 ],\n",
       "       [1.3768399],\n",
       "       [1.3716761],\n",
       "       [1.3696294],\n",
       "       [1.371099 ],\n",
       "       [1.3758032],\n",
       "       [1.3872541],\n",
       "       [1.4050345],\n",
       "       [1.4283812],\n",
       "       [1.4514217],\n",
       "       [1.4656711],\n",
       "       [1.4690971],\n",
       "       [1.4727192],\n",
       "       [1.4842411],\n",
       "       [1.5019422],\n",
       "       [1.5185181],\n",
       "       [1.5292702],\n",
       "       [1.5331602],\n",
       "       [1.5354171],\n",
       "       [1.5444672],\n",
       "       [1.5614195],\n",
       "       [1.574546 ],\n",
       "       [1.5759753],\n",
       "       [1.5647748],\n",
       "       [1.5433283],\n",
       "       [1.5172415],\n",
       "       [1.4941905],\n",
       "       [1.4838307],\n",
       "       [1.4879698],\n",
       "       [1.5032623],\n",
       "       [1.5254369],\n",
       "       [1.5461736],\n",
       "       [1.5599171],\n",
       "       [1.5639706],\n",
       "       [1.561632 ],\n",
       "       [1.557042 ],\n",
       "       [1.5561702],\n",
       "       [1.560435 ],\n",
       "       [1.5693643],\n",
       "       [1.5823872],\n",
       "       [1.5962086],\n",
       "       [1.6109829],\n",
       "       [1.6287152],\n",
       "       [1.644293 ],\n",
       "       [1.656576 ],\n",
       "       [1.6669643],\n",
       "       [1.6791742],\n",
       "       [1.6645937],\n",
       "       [1.6199224],\n",
       "       [1.5591898],\n",
       "       [1.505873 ],\n",
       "       [1.4723154],\n",
       "       [1.4559762],\n",
       "       [1.4503322],\n",
       "       [1.4498079],\n",
       "       [1.4520868],\n",
       "       [1.4476244],\n",
       "       [1.4334466],\n",
       "       [1.4250076],\n",
       "       [1.4309683],\n",
       "       [1.4447031],\n",
       "       [1.4535333],\n",
       "       [1.4565251],\n",
       "       [1.4558591],\n",
       "       [1.4510318],\n",
       "       [1.4418924],\n",
       "       [1.4310062],\n",
       "       [1.4166536],\n",
       "       [1.4013436],\n",
       "       [1.3845544],\n",
       "       [1.3519402],\n",
       "       [1.311427 ],\n",
       "       [1.2707627],\n",
       "       [1.2377827],\n",
       "       [1.221556 ],\n",
       "       [1.2256286],\n",
       "       [1.2445766],\n",
       "       [1.2695196],\n",
       "       [1.2957126],\n",
       "       [1.3179294],\n",
       "       [1.3350554],\n",
       "       [1.3492782],\n",
       "       [1.3604423],\n",
       "       [1.3701684],\n",
       "       [1.3807528],\n",
       "       [1.3897609],\n",
       "       [1.3882954],\n",
       "       [1.3748808],\n",
       "       [1.3534949],\n",
       "       [1.3316226],\n",
       "       [1.3184431],\n",
       "       [1.3190441],\n",
       "       [1.3332434],\n",
       "       [1.3574843],\n",
       "       [1.3808981],\n",
       "       [1.3992966],\n",
       "       [1.4149249],\n",
       "       [1.4287863],\n",
       "       [1.4401984],\n",
       "       [1.4494889],\n",
       "       [1.4569719],\n",
       "       [1.4603972],\n",
       "       [1.4596511],\n",
       "       [1.4518766],\n",
       "       [1.441148 ],\n",
       "       [1.4330894],\n",
       "       [1.4274678],\n",
       "       [1.4224242],\n",
       "       [1.4473807],\n",
       "       [1.4978709],\n",
       "       [1.5532448],\n",
       "       [1.5951953],\n",
       "       [1.6151755],\n",
       "       [1.6117252],\n",
       "       [1.581641 ],\n",
       "       [1.5410539],\n",
       "       [1.5042818],\n",
       "       [1.4866244],\n",
       "       [1.4842921],\n",
       "       [1.4874462]], dtype=float32)"
      ]
     },
     "execution_count": 21,
     "metadata": {},
     "output_type": "execute_result"
    }
   ],
   "source": [
    "y_pred = model.predict(X_test)\n",
    "y_pred"
   ]
  },
  {
   "cell_type": "code",
   "execution_count": 22,
   "id": "39d78fa2",
   "metadata": {},
   "outputs": [],
   "source": [
    "predicted_price = sc.inverse_transform(y_pred)"
   ]
  },
  {
   "cell_type": "code",
   "execution_count": 23,
   "id": "bfd7a962",
   "metadata": {},
   "outputs": [
    {
     "data": {
      "image/png": "[encoded data removed]",
      "text/plain": [
       "<Figure size 640x480 with 1 Axes>"
      ]
     },
     "metadata": {},
     "output_type": "display_data"
    }
   ],
   "source": [
    "plt.plot(y_test, color='red', label='Actual Stock Price')\n",
    "plt.plot(predicted_price, color = 'green', label='Predicted Stock Price')\n",
    "plt.title('Google Stock Price Prediction')\n",
    "plt.xlabel('Time')\n",
    "plt.ylabel('Stock Price')\n",
    "plt.legend()\n",
    "plt.show()"
   ]
  },
  {
   "cell_type": "code",
   "execution_count": null,
   "id": "d3533dce",
   "metadata": {},
   "outputs": [],
   "source": []
  }
 ],
 "metadata": {
  "kernelspec": {
   "display_name": "Python 3 (ipykernel)",
   "language": "python",
   "name": "python3"
  },
  "language_info": {
   "codemirror_mode": {
    "name": "ipython",
    "version": 3
   },
   "file_extension": ".py",
   "mimetype": "text/x-python",
   "name": "python",
   "nbconvert_exporter": "python",
   "pygments_lexer": "ipython3",
   "version": "3.9.13"
  }
 },
 "nbformat": 4,
 "nbformat_minor": 5
}
